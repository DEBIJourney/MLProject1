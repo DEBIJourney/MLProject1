{
 "cells": [
  {
   "cell_type": "markdown",
   "id": "a6ea3171-866d-4945-bf17-f463708ed0d6",
   "metadata": {},
   "source": [
    "# What is architect and what is the main goal of it ?\n",
    "   - architect is a person who should know the big picture of the project and be well-known of the business & the bunsiness's needs \n",
    "   - **goal**  \n",
    "    there is huge difference between goals and requirement if we start directly to  talk about the requirement for the project may be you will not be able to reach the desirable point. so as we siad before it the big picture is business-driven mindset is \n",
    "      - What the company strongly needed \n",
    "      - how it will be effect on it\n",
    "      \n",
    "   - you can start with SWOT analysis in this phase:\n",
    "        - Strengths\n",
    "        - weakness\n",
    "        - Opertunities\n",
    "        - Threats\n",
    "**it is strongly business-driven**\n",
    "`the requirement comes when you start run the project like we need tons of feature to be avilable in this project` **which mean requirement**\n",
    "\n",
    "# Architect Language and stackholders\n",
    "   - The Architect's key characteristic is to know how to deal with all persons related to the business such as \n",
    "      - Project Manager: `always care about the success stories and the time factor he/she will be happay with what you do to reduce the time twice to be faster`\n",
    "      - Team Leader: `is the person who always care with tech and the latest you always need to keep him the loop and tach decision realated to tech with him`\n",
    "      - CEO: `he is a business-oriented person who don't care about tech also you need to inform him notice related to how you can cover wider market segment`"
   ]
  },
  {
   "cell_type": "markdown",
   "id": "29b7e0b1-caa6-4cd6-a3e5-df0c934c86eb",
   "metadata": {},
   "source": [
    "# process of the architecture \n",
    "when we  speak about the practical we always care about fast, secure, reliable and easy to maintain \n",
    "1. understand the functional requirements\n",
    "   - as we said above system goals is the first part of the system but in practical the actual architecture started with the requirements `what the system should do`\n",
    "   - always started with high-level tasks \n",
    "   - the analyst is the person who care with this phase of the project he will define the business requirements and the needs \n",
    "   - a lot of meetings need to conducted between the architect and the analyst in this pahse \n",
    "2. understand the non-functional requirements \n",
    "   - define the technical and the service level attributes such as the # of users, loads, volums & performance \n",
    "   - this phase always not shared with the client or the business analyst \n",
    "   - for the architect the non-functional requirement is more important than the functional requirement because this will care with the previous mentioned four parts **fast, secure, reliable and easy to maintain** and the all system will be affected with this requirements\n",
    "3. map the component\n",
    "   - this the moving part of the system that represented the various tasks of the system such as functional and non-functional tasks \n",
    "   - this step has two goals \n",
    "      - it it a great way to understand the system functionality \n",
    "      - it a great way to communicate with the clients that understand the system to make sure that there is nothing missing \n",
    "4. select the technology \n",
    "    - the development team must be involoved in this step to know how to select the frontend, backend and the storage platform\n",
    "    - there is a lot of factor need to be configure when you choose the technology stack \n",
    "    - if you working in microservice you need to decide with technology will give you the needed fucntion \n",
    "5. design the architecture \n",
    "    - after gathering the functional and non-functional requirements you need to design the architecture that cover all parts of the system `with the previous defined components and technology stack`\n",
    "    - to ensure that the system meet the needs of **fast, secure, reliable and easy to maintain** you need to be aware of the system quality like **caching, loosly coupled, statless**\n",
    "6. write the architecture \n",
    "    - this the compination of all the previous effort that you did \n",
    "    - it descripe the whole process that you need to go through \n",
    "    - contains the full picture of the system that you will build \n",
    "    - good architecture document must be relevant for all participants \n",
    "7. support team \n",
    "    - develivering the architecture document is not all the architecture work, this a big mistake that architects always fall in it \n",
    "    - architecture will be changed all theh time so the architect need to be inline with the development team them and know the updates \n",
    "    - need to be part of the demos for realses due to where is a lot of arguee and comments may change the system \n",
    "    - make sure it will stay relevant if you don't need your architecture to be just a paper \n",
    "    \n",
    "**conclusion**\n",
    "    - there are a lot of varies in the process based on the needs \n",
    "    - developers need to be involved in understand non-functional requirement and design the architecture => this will help you to convience them with  the architecture and save time \n",
    "***\n",
    "\n"
   ]
  },
  {
   "cell_type": "code",
   "execution_count": null,
   "id": "33947183-a3e4-423d-a833-a404a8944aa2",
   "metadata": {},
   "outputs": [],
   "source": []
  },
  {
   "cell_type": "code",
   "execution_count": null,
   "id": "a28bb1ed-7c95-4dbc-9823-6871a516b2d3",
   "metadata": {},
   "outputs": [],
   "source": []
  }
 ],
 "metadata": {
  "kernelspec": {
   "display_name": "Python 3",
   "language": "python",
   "name": "python3"
  },
  "language_info": {
   "codemirror_mode": {
    "name": "ipython",
    "version": 3
   },
   "file_extension": ".py",
   "mimetype": "text/x-python",
   "name": "python",
   "nbconvert_exporter": "python",
   "pygments_lexer": "ipython3",
   "version": "3.8.5"
  }
 },
 "nbformat": 4,
 "nbformat_minor": 5
}
