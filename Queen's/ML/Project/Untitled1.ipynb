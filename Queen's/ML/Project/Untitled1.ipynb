{
 "cells": [
  {
   "cell_type": "code",
   "execution_count": 117,
   "id": "bbc96d61-665c-48d8-9948-4cf82e328cbb",
   "metadata": {},
   "outputs": [],
   "source": [
    "import pandas as pd \n",
    "import numpy as np\n",
    "import matplotlib.pyplot as plt\n",
    "import seaborn as sns\n",
    "from sklearn.model_selection import train_test_split\n",
    "from sklearn.neighbors import KNeighborsClassifier\n",
    "import warnings\n",
    "from sklearn import preprocessing\n",
    "from sklearn.metrics import precision_score, recall_score,roc_auc_score, accuracy_score, f1_score, precision_recall_curve, roc_curve, classification_report\n",
    "from sklearn.feature_selection import SelectKBest, chi2\n",
    "warnings.filterwarnings(\"ignore\")\n",
    "from sklearn.metrics import classification_report, confusion_matrix\n",
    "from sklearn.model_selection import cross_val_score\n",
    "from sklearn.linear_model import LogisticRegression\n",
    "from sklearn.model_selection import GridSearchCV\n",
    "from sklearn.naive_bayes import GaussianNB"
   ]
  },
  {
   "cell_type": "markdown",
   "id": "d3e9189a-7a12-446a-860e-afe2e64a757c",
   "metadata": {},
   "source": [
    "### Data Expolratory "
   ]
  },
  {
   "cell_type": "code",
   "execution_count": 125,
   "id": "211fac6b-c101-4e1b-91dd-79af60eef8be",
   "metadata": {},
   "outputs": [],
   "source": [
    "df = pd.read_csv(\"data.csv\")\n",
    "df = df.iloc[:,1:]"
   ]
  },
  {
   "cell_type": "code",
   "execution_count": 119,
   "id": "e07e76d4-6cd1-47eb-8fda-259cd8324259",
   "metadata": {},
   "outputs": [
    {
     "name": "stdout",
     "output_type": "stream",
     "text": [
      "<class 'pandas.core.frame.DataFrame'>\n",
      "RangeIndex: 863 entries, 0 to 862\n",
      "Data columns (total 14 columns):\n",
      " #   Column        Non-Null Count  Dtype  \n",
      "---  ------        --------------  -----  \n",
      " 0   location      863 non-null    int64  \n",
      " 1   country       863 non-null    int64  \n",
      " 2   gender        863 non-null    int64  \n",
      " 3   age           863 non-null    float64\n",
      " 4   vis_wuhan     863 non-null    int64  \n",
      " 5   from_wuhan    863 non-null    int64  \n",
      " 6   symptom1      863 non-null    int64  \n",
      " 7   symptom2      863 non-null    int64  \n",
      " 8   symptom3      863 non-null    int64  \n",
      " 9   symptom4      863 non-null    int64  \n",
      " 10  symptom5      863 non-null    int64  \n",
      " 11  symptom6      863 non-null    int64  \n",
      " 12  diff_sym_hos  863 non-null    int64  \n",
      " 13  result        863 non-null    int64  \n",
      "dtypes: float64(1), int64(13)\n",
      "memory usage: 94.5 KB\n"
     ]
    }
   ],
   "source": [
    "df.info()"
   ]
  },
  {
   "cell_type": "code",
   "execution_count": 120,
   "id": "1965ba27-7fb7-4d6f-9d8b-7662bae2364e",
   "metadata": {},
   "outputs": [
    {
     "data": {
      "text/html": [
       "<div>\n",
       "<style scoped>\n",
       "    .dataframe tbody tr th:only-of-type {\n",
       "        vertical-align: middle;\n",
       "    }\n",
       "\n",
       "    .dataframe tbody tr th {\n",
       "        vertical-align: top;\n",
       "    }\n",
       "\n",
       "    .dataframe thead th {\n",
       "        text-align: right;\n",
       "    }\n",
       "</style>\n",
       "<table border=\"1\" class=\"dataframe\">\n",
       "  <thead>\n",
       "    <tr style=\"text-align: right;\">\n",
       "      <th></th>\n",
       "      <th>location</th>\n",
       "      <th>country</th>\n",
       "      <th>gender</th>\n",
       "      <th>age</th>\n",
       "      <th>vis_wuhan</th>\n",
       "      <th>from_wuhan</th>\n",
       "      <th>symptom1</th>\n",
       "      <th>symptom2</th>\n",
       "      <th>symptom3</th>\n",
       "      <th>symptom4</th>\n",
       "      <th>symptom5</th>\n",
       "      <th>symptom6</th>\n",
       "      <th>diff_sym_hos</th>\n",
       "      <th>result</th>\n",
       "    </tr>\n",
       "  </thead>\n",
       "  <tbody>\n",
       "    <tr>\n",
       "      <th>count</th>\n",
       "      <td>863.000000</td>\n",
       "      <td>863.000000</td>\n",
       "      <td>863.000000</td>\n",
       "      <td>863.000000</td>\n",
       "      <td>863.000000</td>\n",
       "      <td>863.000000</td>\n",
       "      <td>863.00000</td>\n",
       "      <td>863.000000</td>\n",
       "      <td>863.000000</td>\n",
       "      <td>863.000000</td>\n",
       "      <td>863.000000</td>\n",
       "      <td>863.000000</td>\n",
       "      <td>863.000000</td>\n",
       "      <td>863.000000</td>\n",
       "    </tr>\n",
       "    <tr>\n",
       "      <th>mean</th>\n",
       "      <td>76.645423</td>\n",
       "      <td>16.995365</td>\n",
       "      <td>0.849363</td>\n",
       "      <td>49.400000</td>\n",
       "      <td>0.181924</td>\n",
       "      <td>0.107764</td>\n",
       "      <td>12.13905</td>\n",
       "      <td>28.002317</td>\n",
       "      <td>18.298957</td>\n",
       "      <td>11.840093</td>\n",
       "      <td>2.993048</td>\n",
       "      <td>0.998841</td>\n",
       "      <td>0.995365</td>\n",
       "      <td>0.125145</td>\n",
       "    </tr>\n",
       "    <tr>\n",
       "      <th>std</th>\n",
       "      <td>39.200264</td>\n",
       "      <td>7.809951</td>\n",
       "      <td>0.726062</td>\n",
       "      <td>15.079203</td>\n",
       "      <td>0.386005</td>\n",
       "      <td>0.310261</td>\n",
       "      <td>3.99787</td>\n",
       "      <td>7.473231</td>\n",
       "      <td>2.864064</td>\n",
       "      <td>1.183771</td>\n",
       "      <td>0.127251</td>\n",
       "      <td>0.034040</td>\n",
       "      <td>2.358767</td>\n",
       "      <td>0.331075</td>\n",
       "    </tr>\n",
       "    <tr>\n",
       "      <th>min</th>\n",
       "      <td>0.000000</td>\n",
       "      <td>0.000000</td>\n",
       "      <td>0.000000</td>\n",
       "      <td>2.000000</td>\n",
       "      <td>0.000000</td>\n",
       "      <td>0.000000</td>\n",
       "      <td>0.00000</td>\n",
       "      <td>0.000000</td>\n",
       "      <td>0.000000</td>\n",
       "      <td>0.000000</td>\n",
       "      <td>0.000000</td>\n",
       "      <td>0.000000</td>\n",
       "      <td>-5.000000</td>\n",
       "      <td>0.000000</td>\n",
       "    </tr>\n",
       "    <tr>\n",
       "      <th>25%</th>\n",
       "      <td>45.000000</td>\n",
       "      <td>11.000000</td>\n",
       "      <td>0.000000</td>\n",
       "      <td>40.000000</td>\n",
       "      <td>0.000000</td>\n",
       "      <td>0.000000</td>\n",
       "      <td>14.00000</td>\n",
       "      <td>31.000000</td>\n",
       "      <td>19.000000</td>\n",
       "      <td>12.000000</td>\n",
       "      <td>3.000000</td>\n",
       "      <td>1.000000</td>\n",
       "      <td>0.000000</td>\n",
       "      <td>0.000000</td>\n",
       "    </tr>\n",
       "    <tr>\n",
       "      <th>50%</th>\n",
       "      <td>87.000000</td>\n",
       "      <td>18.000000</td>\n",
       "      <td>1.000000</td>\n",
       "      <td>49.400000</td>\n",
       "      <td>0.000000</td>\n",
       "      <td>0.000000</td>\n",
       "      <td>14.00000</td>\n",
       "      <td>31.000000</td>\n",
       "      <td>19.000000</td>\n",
       "      <td>12.000000</td>\n",
       "      <td>3.000000</td>\n",
       "      <td>1.000000</td>\n",
       "      <td>0.000000</td>\n",
       "      <td>0.000000</td>\n",
       "    </tr>\n",
       "    <tr>\n",
       "      <th>75%</th>\n",
       "      <td>110.000000</td>\n",
       "      <td>24.000000</td>\n",
       "      <td>1.000000</td>\n",
       "      <td>57.000000</td>\n",
       "      <td>0.000000</td>\n",
       "      <td>0.000000</td>\n",
       "      <td>14.00000</td>\n",
       "      <td>31.000000</td>\n",
       "      <td>19.000000</td>\n",
       "      <td>12.000000</td>\n",
       "      <td>3.000000</td>\n",
       "      <td>1.000000</td>\n",
       "      <td>1.000000</td>\n",
       "      <td>0.000000</td>\n",
       "    </tr>\n",
       "    <tr>\n",
       "      <th>max</th>\n",
       "      <td>138.000000</td>\n",
       "      <td>33.000000</td>\n",
       "      <td>2.000000</td>\n",
       "      <td>96.000000</td>\n",
       "      <td>1.000000</td>\n",
       "      <td>1.000000</td>\n",
       "      <td>24.00000</td>\n",
       "      <td>31.000000</td>\n",
       "      <td>19.000000</td>\n",
       "      <td>12.000000</td>\n",
       "      <td>3.000000</td>\n",
       "      <td>1.000000</td>\n",
       "      <td>15.000000</td>\n",
       "      <td>1.000000</td>\n",
       "    </tr>\n",
       "  </tbody>\n",
       "</table>\n",
       "</div>"
      ],
      "text/plain": [
       "         location     country      gender         age   vis_wuhan  from_wuhan  \\\n",
       "count  863.000000  863.000000  863.000000  863.000000  863.000000  863.000000   \n",
       "mean    76.645423   16.995365    0.849363   49.400000    0.181924    0.107764   \n",
       "std     39.200264    7.809951    0.726062   15.079203    0.386005    0.310261   \n",
       "min      0.000000    0.000000    0.000000    2.000000    0.000000    0.000000   \n",
       "25%     45.000000   11.000000    0.000000   40.000000    0.000000    0.000000   \n",
       "50%     87.000000   18.000000    1.000000   49.400000    0.000000    0.000000   \n",
       "75%    110.000000   24.000000    1.000000   57.000000    0.000000    0.000000   \n",
       "max    138.000000   33.000000    2.000000   96.000000    1.000000    1.000000   \n",
       "\n",
       "        symptom1    symptom2    symptom3    symptom4    symptom5    symptom6  \\\n",
       "count  863.00000  863.000000  863.000000  863.000000  863.000000  863.000000   \n",
       "mean    12.13905   28.002317   18.298957   11.840093    2.993048    0.998841   \n",
       "std      3.99787    7.473231    2.864064    1.183771    0.127251    0.034040   \n",
       "min      0.00000    0.000000    0.000000    0.000000    0.000000    0.000000   \n",
       "25%     14.00000   31.000000   19.000000   12.000000    3.000000    1.000000   \n",
       "50%     14.00000   31.000000   19.000000   12.000000    3.000000    1.000000   \n",
       "75%     14.00000   31.000000   19.000000   12.000000    3.000000    1.000000   \n",
       "max     24.00000   31.000000   19.000000   12.000000    3.000000    1.000000   \n",
       "\n",
       "       diff_sym_hos      result  \n",
       "count    863.000000  863.000000  \n",
       "mean       0.995365    0.125145  \n",
       "std        2.358767    0.331075  \n",
       "min       -5.000000    0.000000  \n",
       "25%        0.000000    0.000000  \n",
       "50%        0.000000    0.000000  \n",
       "75%        1.000000    0.000000  \n",
       "max       15.000000    1.000000  "
      ]
     },
     "execution_count": 120,
     "metadata": {},
     "output_type": "execute_result"
    }
   ],
   "source": [
    "df.describe()"
   ]
  },
  {
   "cell_type": "code",
   "execution_count": 122,
   "id": "01dc2c93-9d5d-44b0-80dd-d6a84f317c49",
   "metadata": {},
   "outputs": [
    {
     "data": {
      "text/plain": [
       "location        0.0\n",
       "country         0.0\n",
       "gender          0.0\n",
       "age             0.0\n",
       "vis_wuhan       0.0\n",
       "from_wuhan      0.0\n",
       "symptom1        0.0\n",
       "symptom2        0.0\n",
       "symptom3        0.0\n",
       "symptom4        0.0\n",
       "symptom5        0.0\n",
       "symptom6        0.0\n",
       "diff_sym_hos    0.0\n",
       "result          0.0\n",
       "dtype: float64"
      ]
     },
     "execution_count": 122,
     "metadata": {},
     "output_type": "execute_result"
    }
   ],
   "source": [
    "(df.isna().sum()/df.shape[0]*100).sort_values(ascending=False)"
   ]
  },
  {
   "cell_type": "code",
   "execution_count": 123,
   "id": "c4ed7036-d670-4683-9c7b-d912e7aa9580",
   "metadata": {},
   "outputs": [
    {
     "data": {
      "text/plain": [
       "0    0.874855\n",
       "1    0.125145\n",
       "Name: result, dtype: float64"
      ]
     },
     "execution_count": 123,
     "metadata": {},
     "output_type": "execute_result"
    }
   ],
   "source": [
    "df['result'].value_counts(normalize=True) "
   ]
  },
  {
   "cell_type": "code",
   "execution_count": 124,
   "id": "bfd1f288-d750-4b21-9a16-823ee301a454",
   "metadata": {},
   "outputs": [],
   "source": [
    "df[\"gender\"] = df[\"gender\"].astype(\"object\")\n",
    "df[\"country\"] = df[\"country\"].astype(\"object\")\n",
    "df[\"location\"] = df[\"location\"].astype(\"object\");"
   ]
  },
  {
   "cell_type": "code",
   "execution_count": 92,
   "id": "e51ee4c5-8ecc-4b97-a255-00437cdbe232",
   "metadata": {},
   "outputs": [
    {
     "data": {
      "text/plain": [
       "<Figure size 432x288 with 0 Axes>"
      ]
     },
     "metadata": {},
     "output_type": "display_data"
    },
    {
     "data": {
      "image/png": "[encoded data removed]",
      "text/plain": [
       "<Figure size 216x216 with 1 Axes>"
      ]
     },
     "metadata": {
      "needs_background": "light"
     },
     "output_type": "display_data"
    },
    {
     "data": {
      "text/plain": [
       "<Figure size 432x288 with 0 Axes>"
      ]
     },
     "metadata": {},
     "output_type": "display_data"
    },
    {
     "data": {
      "image/png": "[encoded data removed]",
      "text/plain": [
       "<Figure size 216x216 with 1 Axes>"
      ]
     },
     "metadata": {
      "needs_background": "light"
     },
     "output_type": "display_data"
    },
    {
     "data": {
      "text/plain": [
       "<Figure size 432x288 with 0 Axes>"
      ]
     },
     "metadata": {},
     "output_type": "display_data"
    },
    {
     "data": {
      "image/png": "[encoded data removed]",
      "text/plain": [
       "<Figure size 216x216 with 1 Axes>"
      ]
     },
     "metadata": {
      "needs_background": "light"
     },
     "output_type": "display_data"
    },
    {
     "data": {
      "text/plain": [
       "<Figure size 432x288 with 0 Axes>"
      ]
     },
     "metadata": {},
     "output_type": "display_data"
    },
    {
     "data": {
      "image/png": "[encoded data removed]",
      "text/plain": [
       "<Figure size 216x216 with 1 Axes>"
      ]
     },
     "metadata": {
      "needs_background": "light"
     },
     "output_type": "display_data"
    },
    {
     "data": {
      "text/plain": [
       "<Figure size 432x288 with 0 Axes>"
      ]
     },
     "metadata": {},
     "output_type": "display_data"
    },
    {
     "data": {
      "image/png": "[encoded data removed]",
      "text/plain": [
       "<Figure size 216x216 with 1 Axes>"
      ]
     },
     "metadata": {
      "needs_background": "light"
     },
     "output_type": "display_data"
    },
    {
     "data": {
      "text/plain": [
       "<Figure size 432x288 with 0 Axes>"
      ]
     },
     "metadata": {},
     "output_type": "display_data"
    },
    {
     "data": {
      "image/png": "[encoded data removed]",
      "text/plain": [
       "<Figure size 216x216 with 1 Axes>"
      ]
     },
     "metadata": {
      "needs_background": "light"
     },
     "output_type": "display_data"
    },
    {
     "data": {
      "text/plain": [
       "<Figure size 432x288 with 0 Axes>"
      ]
     },
     "metadata": {},
     "output_type": "display_data"
    },
    {
     "data": {
      "image/png": "[encoded data removed]",
      "text/plain": [
       "<Figure size 216x216 with 1 Axes>"
      ]
     },
     "metadata": {
      "needs_background": "light"
     },
     "output_type": "display_data"
    },
    {
     "data": {
      "text/plain": [
       "<Figure size 432x288 with 0 Axes>"
      ]
     },
     "metadata": {},
     "output_type": "display_data"
    },
    {
     "data": {
      "image/png": "[encoded data removed]",
      "text/plain": [
       "<Figure size 216x216 with 1 Axes>"
      ]
     },
     "metadata": {
      "needs_background": "light"
     },
     "output_type": "display_data"
    },
    {
     "data": {
      "text/plain": [
       "<Figure size 432x288 with 0 Axes>"
      ]
     },
     "metadata": {},
     "output_type": "display_data"
    },
    {
     "data": {
      "image/png": "[encoded data removed]",
      "text/plain": [
       "<Figure size 216x216 with 1 Axes>"
      ]
     },
     "metadata": {
      "needs_background": "light"
     },
     "output_type": "display_data"
    },
    {
     "data": {
      "text/plain": [
       "<Figure size 432x288 with 0 Axes>"
      ]
     },
     "metadata": {},
     "output_type": "display_data"
    },
    {
     "data": {
      "image/png": "[encoded data removed]",
      "text/plain": [
       "<Figure size 216x216 with 1 Axes>"
      ]
     },
     "metadata": {
      "needs_background": "light"
     },
     "output_type": "display_data"
    },
    {
     "data": {
      "text/plain": [
       "<Figure size 432x288 with 0 Axes>"
      ]
     },
     "metadata": {},
     "output_type": "display_data"
    },
    {
     "data": {
      "image/png": "[encoded data removed]",
      "text/plain": [
       "<Figure size 216x216 with 1 Axes>"
      ]
     },
     "metadata": {
      "needs_background": "light"
     },
     "output_type": "display_data"
    }
   ],
   "source": [
    "for col in df.select_dtypes(include=['float64','int64']):\n",
    "    plt.figure()\n",
    "    sns.displot(df[col],kind='kde',height=3)\n",
    "    plt.show();"
   ]
  },
  {
   "cell_type": "code",
   "execution_count": 91,
   "id": "b8cfec59-c9e5-4230-b53f-bf2231bc1912",
   "metadata": {},
   "outputs": [
    {
     "name": "stdout",
     "output_type": "stream",
     "text": [
      "location------------ [104 101 137 116 23 105 13 100 135 53 71 67 29 35 102 83 33 42 39 52 41 54\n",
      " 46 31 103 132 47 99 40 17 88 27 6 4 109 96 25 68 79 76 18 70 16 82 117 1\n",
      " 80 44 87 75 51 64 37 22 128 86 56 95 97 78 30 59 60 49 77 32 73 106 108\n",
      " 98 110 114 19 8 74 131 113 38 115 126 127 125 92 107 118 124 90 12 28 9\n",
      " 120 85 36 93 43 121 45 133 119 58 63 62 138 26 130 81 94 134 69 122 84\n",
      " 129 57 2 89 65 112 11 72 20 5 123 21 136 55 14 7 91 111 34 50 66 61 10 48\n",
      " 0 3 24 15]\n",
      "country------------- [8 11 18 21 23 24 28 29 32 33 2 7 6 12 30 13 17 31 14 22 10 25 26 5 15 16\n",
      " 20 19 4 3 0 1 9 27]\n",
      "gender-------------- [1 0 2]\n"
     ]
    }
   ],
   "source": [
    "for col in df.select_dtypes(\"object\"):\n",
    "    print(f'{col :-<20} {df[col].unique()}')"
   ]
  },
  {
   "cell_type": "code",
   "execution_count": 93,
   "id": "831b3ce6-13bd-4cb1-9170-8d499d08d630",
   "metadata": {},
   "outputs": [
    {
     "data": {
      "image/png": "[encoded data removed]",
      "text/plain": [
       "<Figure size 432x288 with 1 Axes>"
      ]
     },
     "metadata": {},
     "output_type": "display_data"
    },
    {
     "data": {
      "image/png": "[encoded data removed]",
      "text/plain": [
       "<Figure size 432x288 with 1 Axes>"
      ]
     },
     "metadata": {},
     "output_type": "display_data"
    },
    {
     "data": {
      "image/png": "[encoded data removed]",
      "text/plain": [
       "<Figure size 432x288 with 1 Axes>"
      ]
     },
     "metadata": {},
     "output_type": "display_data"
    }
   ],
   "source": [
    "for col in df.select_dtypes(\"object\"):\n",
    "    plt.figure()\n",
    "    df[col].value_counts().plot.pie()\n",
    "    plt.show()"
   ]
  },
  {
   "cell_type": "code",
   "execution_count": 70,
   "id": "79436ceb-dc6b-4552-b557-6b44933e59e1",
   "metadata": {},
   "outputs": [
    {
     "name": "stdout",
     "output_type": "stream",
     "text": [
      "location \t 139\n",
      "country \t 34\n",
      "symptom1 \t 25\n",
      "symptom2 \t 32\n",
      "symptom3 \t 20\n",
      "symptom4 \t 13\n",
      "symptom5 \t 4\n",
      "symptom6 \t 2\n",
      "diff_sym_hos \t 18\n"
     ]
    }
   ],
   "source": [
    "featureList = ['location','country','symptom1','symptom2','symptom3','symptom4','symptom5','symptom6','diff_sym_hos']\n",
    "for i in featureList:\n",
    "    print(f\"{i} \\t {df[i].nunique()}\")\n",
    "    "
   ]
  },
  {
   "cell_type": "code",
   "execution_count": 126,
   "id": "d8596c12-03b0-4ec2-a431-c9ff526f7b2e",
   "metadata": {},
   "outputs": [
    {
     "data": {
      "text/html": [
       "<div>\n",
       "<style scoped>\n",
       "    .dataframe tbody tr th:only-of-type {\n",
       "        vertical-align: middle;\n",
       "    }\n",
       "\n",
       "    .dataframe tbody tr th {\n",
       "        vertical-align: top;\n",
       "    }\n",
       "\n",
       "    .dataframe thead th {\n",
       "        text-align: right;\n",
       "    }\n",
       "</style>\n",
       "<table border=\"1\" class=\"dataframe\">\n",
       "  <thead>\n",
       "    <tr style=\"text-align: right;\">\n",
       "      <th></th>\n",
       "      <th>location</th>\n",
       "      <th>country</th>\n",
       "      <th>gender</th>\n",
       "      <th>age</th>\n",
       "      <th>vis_wuhan</th>\n",
       "      <th>from_wuhan</th>\n",
       "      <th>symptom1</th>\n",
       "      <th>symptom2</th>\n",
       "      <th>symptom3</th>\n",
       "      <th>symptom4</th>\n",
       "      <th>symptom5</th>\n",
       "      <th>symptom6</th>\n",
       "      <th>diff_sym_hos</th>\n",
       "      <th>result</th>\n",
       "    </tr>\n",
       "  </thead>\n",
       "  <tbody>\n",
       "    <tr>\n",
       "      <th>223</th>\n",
       "      <td>56</td>\n",
       "      <td>18</td>\n",
       "      <td>1</td>\n",
       "      <td>35.0</td>\n",
       "      <td>0</td>\n",
       "      <td>0</td>\n",
       "      <td>6</td>\n",
       "      <td>31</td>\n",
       "      <td>19</td>\n",
       "      <td>12</td>\n",
       "      <td>3</td>\n",
       "      <td>1</td>\n",
       "      <td>-1</td>\n",
       "      <td>0</td>\n",
       "    </tr>\n",
       "    <tr>\n",
       "      <th>240</th>\n",
       "      <td>128</td>\n",
       "      <td>18</td>\n",
       "      <td>1</td>\n",
       "      <td>65.0</td>\n",
       "      <td>0</td>\n",
       "      <td>0</td>\n",
       "      <td>6</td>\n",
       "      <td>31</td>\n",
       "      <td>19</td>\n",
       "      <td>12</td>\n",
       "      <td>3</td>\n",
       "      <td>1</td>\n",
       "      <td>-5</td>\n",
       "      <td>0</td>\n",
       "    </tr>\n",
       "  </tbody>\n",
       "</table>\n",
       "</div>"
      ],
      "text/plain": [
       "     location  country  gender   age  vis_wuhan  from_wuhan  symptom1  \\\n",
       "223        56       18       1  35.0          0           0         6   \n",
       "240       128       18       1  65.0          0           0         6   \n",
       "\n",
       "     symptom2  symptom3  symptom4  symptom5  symptom6  diff_sym_hos  result  \n",
       "223        31        19        12         3         1            -1       0  \n",
       "240        31        19        12         3         1            -5       0  "
      ]
     },
     "execution_count": 126,
     "metadata": {},
     "output_type": "execute_result"
    }
   ],
   "source": [
    "df[df.diff_sym_hos < 0]"
   ]
  },
  {
   "cell_type": "code",
   "execution_count": 127,
   "id": "61b3c9b3-bb3b-4f59-9495-75af90fdc6a3",
   "metadata": {},
   "outputs": [
    {
     "data": {
      "text/html": [
       "<div>\n",
       "<style scoped>\n",
       "    .dataframe tbody tr th:only-of-type {\n",
       "        vertical-align: middle;\n",
       "    }\n",
       "\n",
       "    .dataframe tbody tr th {\n",
       "        vertical-align: top;\n",
       "    }\n",
       "\n",
       "    .dataframe thead th {\n",
       "        text-align: right;\n",
       "    }\n",
       "</style>\n",
       "<table border=\"1\" class=\"dataframe\">\n",
       "  <thead>\n",
       "    <tr style=\"text-align: right;\">\n",
       "      <th></th>\n",
       "      <th>location</th>\n",
       "      <th>country</th>\n",
       "      <th>gender</th>\n",
       "      <th>age</th>\n",
       "      <th>vis_wuhan</th>\n",
       "      <th>from_wuhan</th>\n",
       "      <th>symptom1</th>\n",
       "      <th>symptom2</th>\n",
       "      <th>symptom3</th>\n",
       "      <th>symptom4</th>\n",
       "      <th>symptom5</th>\n",
       "      <th>symptom6</th>\n",
       "      <th>diff_sym_hos</th>\n",
       "      <th>result</th>\n",
       "    </tr>\n",
       "  </thead>\n",
       "  <tbody>\n",
       "    <tr>\n",
       "      <th>223</th>\n",
       "      <td>56</td>\n",
       "      <td>18</td>\n",
       "      <td>1</td>\n",
       "      <td>35.0</td>\n",
       "      <td>0</td>\n",
       "      <td>0</td>\n",
       "      <td>6</td>\n",
       "      <td>31</td>\n",
       "      <td>19</td>\n",
       "      <td>12</td>\n",
       "      <td>3</td>\n",
       "      <td>1</td>\n",
       "      <td>-1</td>\n",
       "      <td>0</td>\n",
       "    </tr>\n",
       "    <tr>\n",
       "      <th>240</th>\n",
       "      <td>128</td>\n",
       "      <td>18</td>\n",
       "      <td>1</td>\n",
       "      <td>65.0</td>\n",
       "      <td>0</td>\n",
       "      <td>0</td>\n",
       "      <td>6</td>\n",
       "      <td>31</td>\n",
       "      <td>19</td>\n",
       "      <td>12</td>\n",
       "      <td>3</td>\n",
       "      <td>1</td>\n",
       "      <td>-5</td>\n",
       "      <td>0</td>\n",
       "    </tr>\n",
       "  </tbody>\n",
       "</table>\n",
       "</div>"
      ],
      "text/plain": [
       "     location  country  gender   age  vis_wuhan  from_wuhan  symptom1  \\\n",
       "223        56       18       1  35.0          0           0         6   \n",
       "240       128       18       1  65.0          0           0         6   \n",
       "\n",
       "     symptom2  symptom3  symptom4  symptom5  symptom6  diff_sym_hos  result  \n",
       "223        31        19        12         3         1            -1       0  \n",
       "240        31        19        12         3         1            -5       0  "
      ]
     },
     "execution_count": 127,
     "metadata": {},
     "output_type": "execute_result"
    }
   ],
   "source": [
    "df[df.diff_sym_hos < 0]"
   ]
  },
  {
   "cell_type": "code",
   "execution_count": 128,
   "id": "b4985e9b-29d8-491d-b3ce-c7d4f2e50512",
   "metadata": {},
   "outputs": [],
   "source": [
    "df = df[~df.diff_sym_hos < 0]"
   ]
  },
  {
   "cell_type": "code",
   "execution_count": 21,
   "id": "c68735eb-9f6f-4730-9580-c6c9c8399ae0",
   "metadata": {},
   "outputs": [],
   "source": [
    "df.drop(\"gender\",axis = 1, inplace=True) "
   ]
  },
  {
   "cell_type": "code",
   "execution_count": 22,
   "id": "a5de466d-e464-48cb-9bfe-5f18aefd126a",
   "metadata": {},
   "outputs": [],
   "source": [
    "categorical_columns = ['location','country']\n",
    "for column in categorical_columns:\n",
    "    tempdf = pd.get_dummies(df[column], prefix=column)\n",
    "    df = pd.merge(\n",
    "        left=df,\n",
    "        right=tempdf,\n",
    "        left_index=True,\n",
    "        right_index=True,\n",
    "    )\n",
    "    df = df.drop(columns=column)"
   ]
  },
  {
   "cell_type": "code",
   "execution_count": 23,
   "id": "f6c94f3a-ac29-43a1-869e-3d7f113160f9",
   "metadata": {},
   "outputs": [],
   "source": [
    "X = df.iloc[:,:-1]\n",
    "y = df.iloc[:, -1:]\n",
    "X_train, X_test, y_train, y_test = train_test_split(X, y, test_size = 0.2, random_state=3)\n",
    "X_test, X_valid, y_test, y_valid = train_test_split(X_test, y_test, test_size = 0.5, random_state=3)"
   ]
  },
  {
   "cell_type": "code",
   "execution_count": 24,
   "id": "a228ac60-9cbc-4180-aad9-de5cb6efcf8f",
   "metadata": {},
   "outputs": [],
   "source": [
    "d = preprocessing.normalize(X)\n",
    "\n",
    "names = X.columns.values.tolist()\n",
    "scaled_df = pd.DataFrame(d, columns = names)"
   ]
  },
  {
   "cell_type": "code",
   "execution_count": 25,
   "id": "bd3d466f-0894-427a-9c1f-8a8fc30dad9c",
   "metadata": {},
   "outputs": [
    {
     "data": {
      "text/plain": [
       "(861, 14)"
      ]
     },
     "execution_count": 25,
     "metadata": {},
     "output_type": "execute_result"
    }
   ],
   "source": [
    "X_new = SelectKBest(chi2, k = 14).fit_transform(scaled_df, y)\n",
    "X_new.shape"
   ]
  },
  {
   "cell_type": "code",
   "execution_count": 26,
   "id": "b8aed3ed-e322-4619-8625-9868de44fd99",
   "metadata": {},
   "outputs": [],
   "source": [
    "def predict_and_score(clf,X, y):\n",
    "    \"\"\"\n",
    "        clf: model \n",
    "        X: X_train data \n",
    "        y: label data\n",
    "        return precision, recall, F1, roc_auc\n",
    "    \"\"\"\n",
    "    y_predict = clf.predict(X)\n",
    "    precision= precision_score(y, y_predict)\n",
    "    recall = recall_score(y,y_predict)\n",
    "    roc_auc = roc_auc_score(y, y_predict)\n",
    "    F1 = f1_score(y, y_predict)\n",
    "    return precision, recall, F1, roc_auc"
   ]
  },
  {
   "cell_type": "code",
   "execution_count": 27,
   "id": "00644e23-1951-4857-ac42-48fcd1bb8ff3",
   "metadata": {},
   "outputs": [
    {
     "name": "stdout",
     "output_type": "stream",
     "text": [
      "1\n"
     ]
    }
   ],
   "source": [
    "dic = {'clf':[], 'recall':[], 'precision':[], 'f1':[], 'roc_auc':[]}\n",
    "weights = ['distance', 'uniform']\n",
    "for k in range(1, int(len(X_train) ** 0.5), 2):\n",
    "    for weight in weights: \n",
    "        knn = KNeighborsClassifier(n_neighbors=k, weights= weight)\n",
    "        knn.fit(X_train, y_train)\n",
    "        precision, recall, roc_auc, F1 = predict_and_score(knn, X_valid,y_valid)\n",
    "        dic['clf'].append(knn)\n",
    "        dic['recall'].append(recall)\n",
    "        dic['precision'].append(precision)\n",
    "        dic['f1'].append(F1)\n",
    "        dic['roc_auc'].append(roc_auc)\n",
    "knn_result = pd.DataFrame(dic)\n",
    "best_knn_classifier =  knn_result.iloc[knn_result['recall'].idxmax(), 0]\n",
    "print(best_knn_classifier.n_neighbors)"
   ]
  },
  {
   "cell_type": "code",
   "execution_count": 28,
   "id": "2836a9da-b9b9-443e-95da-33785958652c",
   "metadata": {},
   "outputs": [
    {
     "name": "stdout",
     "output_type": "stream",
     "text": [
      "[[84  2]\n",
      " [ 0  1]]\n",
      "              precision    recall  f1-score   support\n",
      "\n",
      "           0       1.00      0.98      0.99        86\n",
      "           1       0.33      1.00      0.50         1\n",
      "\n",
      "    accuracy                           0.98        87\n",
      "   macro avg       0.67      0.99      0.74        87\n",
      "weighted avg       0.99      0.98      0.98        87\n",
      "\n"
     ]
    }
   ],
   "source": [
    "knn = KNeighborsClassifier(n_neighbors=5)\n",
    "knn.fit(X_train, y_train)\n",
    "y_pred = knn.predict(X_valid)\n",
    "print(confusion_matrix(y_valid, y_pred))\n",
    "print(classification_report(y_valid, y_pred))"
   ]
  },
  {
   "cell_type": "code",
   "execution_count": 129,
   "id": "03568260-2da5-4e50-a689-73acfeb3daea",
   "metadata": {},
   "outputs": [],
   "source": [
    "def evaluate_measure(model, tuning= False): \n",
    "    \"\"\"function used to evaluate the model and print the accuarcy and validation report data\"\"\"\n",
    "    knn.fit(X_train, y_train)\n",
    "    y_pred = knn.predict(X_valid)\n",
    "    print(f\" confusion_matrix: \\n{confusion_matrix(y_valid, y_pred)}\")\n",
    "    print(f\"classification_report: \\n{classification_report(y_valid, y_pred)}\")\n",
    "    print(f\"f1_score : \\n{f1_score(y_valid, y_pred, average='binary') }\")"
   ]
  },
  {
   "cell_type": "code",
   "execution_count": 130,
   "id": "55200214-9c30-4f14-94ad-dc8a34947465",
   "metadata": {},
   "outputs": [
    {
     "name": "stdout",
     "output_type": "stream",
     "text": [
      "The best N is 7 with value 0.9942028985507246\n"
     ]
    }
   ],
   "source": [
    "neighbors = np.arange(1, 10)\n",
    "y_list = []\n",
    "# Loop over K values\n",
    "for i, k in enumerate(neighbors):\n",
    "    knn = KNeighborsClassifier(n_neighbors=k)\n",
    "    y_pred = cross_val_score(knn, X_train, y_train, cv=10).mean()\n",
    "    y_list.append(y_pred)\n",
    "    if y_pred >= max(y_list):\n",
    "        max_N = k\n",
    "    \n",
    "print(f\"The best N is {max_N} with value {max(y_list)}\")    "
   ]
  },
  {
   "cell_type": "code",
   "execution_count": 132,
   "id": "33b5d9fb-169c-4155-8609-4b44ea605a28",
   "metadata": {},
   "outputs": [
    {
     "name": "stdout",
     "output_type": "stream",
     "text": [
      " confusion_matrix: \n",
      "[[85  1]\n",
      " [ 0  1]]\n",
      "classification_report: \n",
      "              precision    recall  f1-score   support\n",
      "\n",
      "           0       1.00      0.99      0.99        86\n",
      "           1       0.50      1.00      0.67         1\n",
      "\n",
      "    accuracy                           0.99        87\n",
      "   macro avg       0.75      0.99      0.83        87\n",
      "weighted avg       0.99      0.99      0.99        87\n",
      "\n",
      "f1_score : \n",
      "0.6666666666666666\n"
     ]
    }
   ],
   "source": [
    "knn = KNeighborsClassifier(n_neighbors=1, algorithm = 'brute')\n",
    "evaluate_measure(knn)"
   ]
  },
  {
   "cell_type": "markdown",
   "id": "84dd6778-2562-4948-8470-3b325e0aa545",
   "metadata": {},
   "source": [
    "***"
   ]
  },
  {
   "cell_type": "code",
   "execution_count": 116,
   "id": "de808bd4-974e-4fec-a485-5db813453249",
   "metadata": {},
   "outputs": [
    {
     "name": "stdout",
     "output_type": "stream",
     "text": [
      " confusion_matrix: \n",
      "[[85  1]\n",
      " [ 0  1]]\n",
      "classification_report: \n",
      "              precision    recall  f1-score   support\n",
      "\n",
      "           0       1.00      0.99      0.99        86\n",
      "           1       0.50      1.00      0.67         1\n",
      "\n",
      "    accuracy                           0.99        87\n",
      "   macro avg       0.75      0.99      0.83        87\n",
      "weighted avg       0.99      0.99      0.99        87\n",
      "\n",
      "f1_score : \n",
      "0.6666666666666666\n"
     ]
    }
   ],
   "source": [
    "lr = LogisticRegression(solver='lbfgs')\n",
    "evaluate_measure(lr)"
   ]
  },
  {
   "cell_type": "code",
   "execution_count": 48,
   "id": "5380adc2-fba2-4a8f-bec8-4eb63eb55b31",
   "metadata": {},
   "outputs": [
    {
     "name": "stdout",
     "output_type": "stream",
     "text": [
      "Fitting 7 folds for each of 36 candidates, totalling 252 fits\n"
     ]
    },
    {
     "data": {
      "text/plain": [
       "LogisticRegression(C=0.01, penalty='none')"
      ]
     },
     "execution_count": 48,
     "metadata": {},
     "output_type": "execute_result"
    }
   ],
   "source": [
    "LR = LogisticRegression()\n",
    "LRparam_grid = {\n",
    "    'C': [0.01, 0.1, 1, 10, 100, 1000],\n",
    "    'penalty': ['none','l1', 'l2'],\n",
    "    'solver': ['lbfgs', 'liblinear']\n",
    "}\n",
    "LR_search = GridSearchCV(LR, param_grid = LRparam_grid, refit = True, verbose = 1, cv=7)\n",
    "\n",
    "# fitting the model for grid search \n",
    "LR_search.fit(X_train , y_train)\n",
    "\n",
    "paralist = []\n",
    "paralist = list(LR_search.best_params_.values())\n",
    "\n",
    "lr = LogisticRegression(C= paralist[0] , penalty= paralist[1], solver= paralist[2])\n",
    "lr.fit(X_train, y_train)"
   ]
  },
  {
   "cell_type": "code",
   "execution_count": 50,
   "id": "39cc8fbf-2b7b-45a2-a9b2-06fac3a4471b",
   "metadata": {},
   "outputs": [
    {
     "name": "stdout",
     "output_type": "stream",
     "text": [
      "[[86  0]\n",
      " [ 1  0]]\n",
      "              precision    recall  f1-score   support\n",
      "\n",
      "           0       0.99      1.00      0.99        86\n",
      "           1       0.00      0.00      0.00         1\n",
      "\n",
      "    accuracy                           0.99        87\n",
      "   macro avg       0.49      0.50      0.50        87\n",
      "weighted avg       0.98      0.99      0.98        87\n",
      "\n"
     ]
    }
   ],
   "source": [
    "y_pred = lr.predict(X_valid)\n",
    "print(confusion_matrix(y_valid, y_pred))\n",
    "print(classification_report(y_valid, y_pred))"
   ]
  },
  {
   "cell_type": "code",
   "execution_count": 55,
   "id": "d98b6a71-34e2-4da4-bf6e-b5d3949e1b48",
   "metadata": {},
   "outputs": [
    {
     "data": {
      "text/plain": [
       "<StemContainer object of 3 artists>"
      ]
     },
     "execution_count": 55,
     "metadata": {},
     "output_type": "execute_result"
    },
    {
     "data": {
      "image/png": "[encoded data removed]",
      "text/plain": [
       "<Figure size 432x288 with 1 Axes>"
      ]
     },
     "metadata": {
      "needs_background": "light"
     },
     "output_type": "display_data"
    }
   ],
   "source": [
    "# flatten_w = W.flatten()\n",
    "# flatten_w.sort()\n",
    "# largest_2 = flatten_w[-2:]\n",
    "# W == largest_2[0]\n",
    "# first_one = np.where(W == largest_2[0])\n",
    "# second_one = np.where(W == largest_2[1])\n",
    "w_cof = lr.coef_\n",
    "x_w = list(range(w_cof.shape[1]))\n",
    "plt.stem(x_w, w_cof[0].flatten(), use_line_collection=True)"
   ]
  },
  {
   "cell_type": "code",
   "execution_count": 56,
   "id": "129100f1-e977-4060-ba9e-7d3c392d7211",
   "metadata": {},
   "outputs": [
    {
     "data": {
      "text/plain": [
       "array([[ 3.76881844e-01,  6.78859344e+00, -5.31094110e+00,\n",
       "         2.16277823e+00,  2.16356787e+01, -3.36212056e+00,\n",
       "        -4.82289708e+01, -2.69992388e+01, -9.09001834e+00,\n",
       "        -5.02231796e+01, -6.29708215e+00, -1.28814086e-01,\n",
       "        -2.15880913e-01,  0.00000000e+00, -8.29636872e-02,\n",
       "        -6.68890858e-02, -4.86365696e-01, -2.83050370e-01,\n",
       "        -8.10560929e-02, -1.57097350e+00, -4.60068345e-01,\n",
       "        -8.78934836e-01, -4.85551838e-01, -9.39322341e-01,\n",
       "        -1.77111109e+00,  0.00000000e+00, -5.05443088e-02,\n",
       "        -7.82496262e-02,  0.00000000e+00, -4.26605020e-02,\n",
       "        -4.33410703e+00, -1.37611324e-01, -3.59247639e-01,\n",
       "        -9.59023553e-01, -7.51787665e-02,  0.00000000e+00,\n",
       "        -2.34011595e-01, -9.87167286e-02, -6.21077330e-01,\n",
       "        -2.22165929e+00, -1.80706966e-01, -7.56038061e-02,\n",
       "        -2.31586554e-01, -1.96348279e-01, -7.98087426e-02,\n",
       "        -1.61812618e-01, -9.08812497e-02, -5.34819356e-02,\n",
       "         0.00000000e+00,  2.72358407e+01, -3.46534783e-02,\n",
       "        -3.84376851e-01, -4.76768501e-01, -2.01852390e-01,\n",
       "        -1.35489880e-01, -3.98750914e+00, -4.11925694e+00,\n",
       "        -2.04587172e-01,  0.00000000e+00, -3.31588868e-01,\n",
       "        -8.75317085e-02, -8.29636872e-02, -1.39351283e+00,\n",
       "        -4.23762097e-01, -6.49210604e-01, -7.17638935e-01,\n",
       "        -7.84908680e-01, -1.93376819e-01, -1.95826159e+00,\n",
       "        -3.07528074e-02, -7.26579272e-02, -1.02441430e-01,\n",
       "        -6.46053402e-01, -2.88112639e-01, -1.34751903e-01,\n",
       "        -9.22697545e-02,  0.00000000e+00, -9.43920630e-02,\n",
       "        -1.75399298e-01, -7.82496262e-02, -1.61777733e-01,\n",
       "        -7.69241883e-02, -3.23245610e-01, -3.31502033e-01,\n",
       "        -1.00075409e+00,  0.00000000e+00, -4.14928353e-02,\n",
       "        -1.37561751e-01, -3.38780226e-02, -7.12103076e-01,\n",
       "         0.00000000e+00,  0.00000000e+00,  0.00000000e+00,\n",
       "        -1.81261732e-01, -6.44187045e-01,  0.00000000e+00,\n",
       "        -1.17656129e+00, -4.05593518e-01, -2.44441413e-01,\n",
       "        -1.49873880e+00, -1.48105224e+00, -3.79364791e-02,\n",
       "        -4.81932815e-01, -2.75950899e-01, -7.72411530e-02,\n",
       "        -5.50836896e+00, -1.05920367e+00, -3.11530405e-01,\n",
       "        -1.31789404e-01, -1.11850185e-01, -3.90017766e+00,\n",
       "        -5.13920897e-01, -8.42274498e-02, -5.78072886e-02,\n",
       "        -2.10075961e-01, -1.79434645e-02, -2.10386047e+00,\n",
       "        -3.83873403e+00, -5.12319066e-02, -6.30167940e+00,\n",
       "        -1.16997212e-01, -3.22271707e+00, -3.22445134e-01,\n",
       "        -2.76230141e-01,  0.00000000e+00, -5.23728217e+00,\n",
       "         0.00000000e+00, -2.58965141e+00, -4.76516669e+00,\n",
       "        -1.43239070e+00, -2.00951920e-02, -5.76997728e-02,\n",
       "        -2.45547093e+00, -4.02296500e-01, -4.01634341e-01,\n",
       "        -2.36006457e+00, -7.68788067e-01,  3.01910371e+01,\n",
       "         3.60328653e+01, -2.66288262e+00, -8.10348617e-02,\n",
       "        -2.09279506e-01, -8.08454739e-02, -3.79029585e-01,\n",
       "         0.00000000e+00, -3.15511858e+00, -2.17883566e+00,\n",
       "        -1.57569899e-01, -2.53224680e-02, -4.87443388e-02,\n",
       "        -1.28814086e-01, -8.29636872e-02, -1.09597087e+00,\n",
       "        -3.31588868e-01, -8.78934836e-01,  0.00000000e+00,\n",
       "        -3.79364791e-02, -3.79245527e+00, -1.87258077e+01,\n",
       "         0.00000000e+00,  0.00000000e+00, -3.72720223e+00,\n",
       "        -5.12152401e+00, -4.94971006e+00, -1.95826159e+00,\n",
       "        -1.04724666e+00, -8.29636872e-02, -5.50836896e+00,\n",
       "        -1.74327074e+01, -6.46053402e-01, -9.43920630e-02,\n",
       "        -1.00075409e+00, -1.48105224e+00, -3.83873403e+00,\n",
       "        -6.41352959e+00, -2.63571291e+00, -7.84908680e-01,\n",
       "        -5.05443088e-02, -3.22271707e+00, -5.23728217e+00,\n",
       "        -2.45547093e+00, -3.80022767e+00, -5.98592601e+00]])"
      ]
     },
     "execution_count": 56,
     "metadata": {},
     "output_type": "execute_result"
    }
   ],
   "source": [
    "w_cof"
   ]
  },
  {
   "cell_type": "code",
   "execution_count": 38,
   "id": "ba15d4fa-be49-42c6-b33d-0896a73e085c",
   "metadata": {},
   "outputs": [
    {
     "data": {
      "text/plain": [
       "0.9942196531791908"
      ]
     },
     "execution_count": 38,
     "metadata": {},
     "output_type": "execute_result"
    }
   ],
   "source": [
    "#f1_score(y_valid, y_pred, average='binary') \n",
    "from sklearn import metrics\n",
    "metrics.f1_score(y_valid, y_pred, average='weighted', labels=np.unique(y_pred))"
   ]
  },
  {
   "cell_type": "markdown",
   "id": "53988ce7-0327-4d69-a9c8-e8bbf4d03f18",
   "metadata": {},
   "source": [
    "***"
   ]
  },
  {
   "cell_type": "code",
   "execution_count": 39,
   "id": "b3b5e4e5-1a85-47bc-9c2f-0c1034e54e3f",
   "metadata": {},
   "outputs": [
    {
     "data": {
      "text/plain": [
       "GaussianNB()"
      ]
     },
     "execution_count": 39,
     "metadata": {},
     "output_type": "execute_result"
    }
   ],
   "source": [
    "gnb = GaussianNB()\n",
    "gnb.fit(X_train, y_train)"
   ]
  },
  {
   "cell_type": "code",
   "execution_count": 40,
   "id": "f61ef605-2f08-4ae1-a00b-8e6814bded3e",
   "metadata": {},
   "outputs": [
    {
     "name": "stdout",
     "output_type": "stream",
     "text": [
      "[[85  1]\n",
      " [ 0  1]]\n",
      "              precision    recall  f1-score   support\n",
      "\n",
      "           0       1.00      0.99      0.99        86\n",
      "           1       0.50      1.00      0.67         1\n",
      "\n",
      "    accuracy                           0.99        87\n",
      "   macro avg       0.75      0.99      0.83        87\n",
      "weighted avg       0.99      0.99      0.99        87\n",
      "\n"
     ]
    }
   ],
   "source": [
    "y_pred = gnb.predict(X_valid)\n",
    "print(confusion_matrix(y_valid, y_pred))\n",
    "print(classification_report(y_valid, y_pred))"
   ]
  },
  {
   "cell_type": "code",
   "execution_count": 41,
   "id": "ed49f069-5dd7-49ff-ad03-b6c17aaa0db9",
   "metadata": {},
   "outputs": [
    {
     "data": {
      "text/plain": [
       "0.9903878470121665"
      ]
     },
     "execution_count": 41,
     "metadata": {},
     "output_type": "execute_result"
    }
   ],
   "source": [
    "f1_score(y_valid, y_pred, average='weighted') "
   ]
  },
  {
   "cell_type": "code",
   "execution_count": 42,
   "id": "e11ec1ca-8d5a-44ba-9d33-3efe0e19aa5d",
   "metadata": {},
   "outputs": [
    {
     "name": "stdout",
     "output_type": "stream",
     "text": [
      "Fitting 5 folds for each of 100 candidates, totalling 500 fits\n"
     ]
    }
   ],
   "source": [
    "nb_classifier = GaussianNB()\n",
    "\n",
    "params_NB = {'var_smoothing': np.logspace(0,-9, num=100)}\n",
    "gs_NB = GridSearchCV(estimator=nb_classifier, param_grid = params_NB, verbose=1, scoring='accuracy') \n",
    "gs_NB.fit(X_train, y_train)\n",
    "\n",
    "var_value = gs_NB.best_params_.get('var_smoothing')\n",
    "gnb = GaussianNB(var_smoothing = var_value)"
   ]
  },
  {
   "cell_type": "code",
   "execution_count": 43,
   "id": "83d17f22-37d5-48ef-9390-552e74b535d0",
   "metadata": {},
   "outputs": [
    {
     "name": "stdout",
     "output_type": "stream",
     "text": [
      "[[84  2]\n",
      " [ 0  1]]\n",
      "              precision    recall  f1-score   support\n",
      "\n",
      "           0       1.00      0.98      0.99        86\n",
      "           1       0.33      1.00      0.50         1\n",
      "\n",
      "    accuracy                           0.98        87\n",
      "   macro avg       0.67      0.99      0.74        87\n",
      "weighted avg       0.99      0.98      0.98        87\n",
      "\n"
     ]
    }
   ],
   "source": [
    "gnb.fit(X_train, y_train)\n",
    "y_pred = gnb.predict(X_valid)\n",
    "print(confusion_matrix(y_valid, y_pred))\n",
    "print(classification_report(y_valid, y_pred))"
   ]
  },
  {
   "cell_type": "code",
   "execution_count": 44,
   "id": "220a2d7c-7396-41e5-95e0-b99eb186fb1d",
   "metadata": {},
   "outputs": [
    {
     "data": {
      "text/plain": [
       "0.9826233941852602"
      ]
     },
     "execution_count": 44,
     "metadata": {},
     "output_type": "execute_result"
    }
   ],
   "source": [
    "f1_score(y_valid, y_pred, average='weighted') "
   ]
  },
  {
   "cell_type": "code",
   "execution_count": null,
   "id": "4f432967-b1a9-4e79-869e-3e5c2b6ed9e6",
   "metadata": {},
   "outputs": [],
   "source": []
  },
  {
   "cell_type": "code",
   "execution_count": null,
   "id": "4aef10cc-9c6e-4caf-9ba9-fbe725bcaca6",
   "metadata": {},
   "outputs": [],
   "source": []
  }
 ],
 "metadata": {
  "kernelspec": {
   "display_name": "Python 3 (ipykernel)",
   "language": "python",
   "name": "python3"
  },
  "language_info": {
   "codemirror_mode": {
    "name": "ipython",
    "version": 3
   },
   "file_extension": ".py",
   "mimetype": "text/x-python",
   "name": "python",
   "nbconvert_exporter": "python",
   "pygments_lexer": "ipython3",
   "version": "3.9.7"
  }
 },
 "nbformat": 4,
 "nbformat_minor": 5
}
